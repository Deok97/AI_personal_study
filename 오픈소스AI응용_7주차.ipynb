{
  "nbformat": 4,
  "nbformat_minor": 0,
  "metadata": {
    "colab": {
      "name": "오픈소스AI응용 7주차.ipynb",
      "provenance": [],
      "collapsed_sections": [],
      "authorship_tag": "ABX9TyOQ7vuse9TPAmfU2IPwzrKQ",
      "include_colab_link": true
    },
    "kernelspec": {
      "name": "python3",
      "display_name": "Python 3"
    },
    "language_info": {
      "name": "python"
    }
  },
  "cells": [
    {
      "cell_type": "markdown",
      "metadata": {
        "id": "view-in-github",
        "colab_type": "text"
      },
      "source": [
        "<a href=\"https://colab.research.google.com/github/Deok97/AI_personal_study/blob/main/%EC%98%A4%ED%94%88%EC%86%8C%EC%8A%A4AI%EC%9D%91%EC%9A%A9_7%EC%A3%BC%EC%B0%A8.ipynb\" target=\"_parent\"><img src=\"https://colab.research.google.com/assets/colab-badge.svg\" alt=\"Open In Colab\"/></a>"
      ]
    },
    {
      "cell_type": "markdown",
      "metadata": {
        "id": "Uwex7UkCsLe7"
      },
      "source": [
        "# 풀링연산 구현"
      ]
    },
    {
      "cell_type": "code",
      "metadata": {
        "id": "nbtmhsKmse1g"
      },
      "source": [
        "import numpy as np"
      ],
      "execution_count": null,
      "outputs": []
    },
    {
      "cell_type": "code",
      "metadata": {
        "colab": {
          "base_uri": "https://localhost:8080/"
        },
        "id": "1tRGrtpgsHq5",
        "outputId": "aa4941f6-2476-4acb-a604-081fa72b1f61"
      },
      "source": [
        "A = np.random.random((4, 4))\n",
        "print(A)\n",
        "stride = 1\n",
        "filters = 2\n",
        "maxPooling_result = np.zeros((A.shape[0]-stride, A.shape[1]-stride))\n",
        "\n",
        "for row in range(0, A.shape[0]-1, stride):\n",
        "  for col in range(0, A.shape[1]-1, stride):\n",
        "    patch = A[row:row+filters, col:col+filters]\n",
        "    maxPooling_result[row//stride, col//stride] = np.max(patch) # // 연산자가 나머지 버리고 정수 몫만을 구하는 연산자\n",
        "\n",
        "print('filters = {}, strides = {}'.format(filters, stride))\n",
        "print('Max Pooling Result: \\n', maxPooling_result)"
      ],
      "execution_count": null,
      "outputs": [
        {
          "output_type": "stream",
          "name": "stdout",
          "text": [
            "[[0.49968314 0.04578103 0.66207761 0.03674616]\n",
            " [0.87373461 0.57842409 0.18863521 0.73671529]\n",
            " [0.95397084 0.86988625 0.96313583 0.73651669]\n",
            " [0.05085208 0.3519991  0.18223892 0.78262834]]\n",
            "filters = 2, strides = 1\n",
            "Max Pooling Result: \n",
            " [[0.87373461 0.66207761 0.73671529]\n",
            " [0.95397084 0.96313583 0.96313583]\n",
            " [0.95397084 0.96313583 0.96313583]]\n"
          ]
        }
      ]
    },
    {
      "cell_type": "markdown",
      "metadata": {
        "id": "W6ORMvcN0v9d"
      },
      "source": [
        "### Functionalize Max Pooling operation\n",
        "\n",
        "* strides = 1, 2 가능\n",
        "* filters = 2만 적용 가능\n"
      ]
    },
    {
      "cell_type": "code",
      "metadata": {
        "id": "lJ30lvBv0QTO"
      },
      "source": [
        "def maxPooling(value_matrix, filters, strides):\n",
        "  stride = strides\n",
        "  filters = filters\n",
        "  maxPooling_result = np.zeros((A.shape[0]-stride, A.shape[1]-stride))\n",
        "\n",
        "  for row in range(0, A.shape[0]-1, stride):\n",
        "    for col in range(0, A.shape[1]-1, stride):\n",
        "      patch = A[row:row+filters, col:col+filters]\n",
        "      maxPooling_result[row//stride, col//stride] = np.max(patch)\n",
        "  return maxPooling_result"
      ],
      "execution_count": null,
      "outputs": []
    },
    {
      "cell_type": "code",
      "metadata": {
        "colab": {
          "base_uri": "https://localhost:8080/"
        },
        "id": "jHMtH_0_0gnQ",
        "outputId": "3370cabf-4bed-4505-8a0c-ea67601fd7d3"
      },
      "source": [
        "maxPooling(A, 1, 2)"
      ],
      "execution_count": null,
      "outputs": [
        {
          "output_type": "execute_result",
          "data": {
            "text/plain": [
              "array([[0.70101392, 0.72895984],\n",
              "       [0.86822651, 0.45395607]])"
            ]
          },
          "metadata": {},
          "execution_count": 45
        }
      ]
    },
    {
      "cell_type": "markdown",
      "metadata": {
        "id": "5SfGJy4Y2oI_"
      },
      "source": [
        "# 맥스 풀링을 프레임워크 이용"
      ]
    },
    {
      "cell_type": "code",
      "metadata": {
        "colab": {
          "base_uri": "https://localhost:8080/"
        },
        "id": "YXjTnN3M2Qbi",
        "outputId": "390d6faa-570e-4fcf-afb6-58a7d977d551"
      },
      "source": [
        "import tensorflow as tf\n",
        "from tensorflow.keras.layers import *\n",
        "from tensorflow.keras import Model\n",
        "input = Input(shape=(4,4,1))\n",
        "max_0 = MaxPooling2D(pool_size = (2,2), strides = 2)(input)\n",
        "model = Model(input, max_0)\n",
        "\n",
        "values = np.random.rand(4, 4)\n",
        "# reshape 과정이 필요하다. (N, H, W, C)\n",
        "resh_values = values.reshape(1, 4, 4, 1)\n",
        "model.predict(resh_values)"
      ],
      "execution_count": null,
      "outputs": [
        {
          "output_type": "execute_result",
          "data": {
            "text/plain": [
              "array([[[[0.9328887 ],\n",
              "         [0.9796505 ]],\n",
              "\n",
              "        [[0.8392268 ],\n",
              "         [0.95689034]]]], dtype=float32)"
            ]
          },
          "metadata": {},
          "execution_count": 44
        }
      ]
    },
    {
      "cell_type": "markdown",
      "metadata": {
        "id": "s_PVxxkI4jg4"
      },
      "source": [
        "# 3차원 데이터 맥스 풀링 연산"
      ]
    },
    {
      "cell_type": "code",
      "metadata": {
        "colab": {
          "base_uri": "https://localhost:8080/"
        },
        "id": "r9J3xaiP4lgp",
        "outputId": "78631537-3ff7-4391-df1a-35ad41c5cb2e"
      },
      "source": [
        "in0 = np.random.rand(4, 4)\n",
        "in1 = np.random.rand(4, 4)\n",
        "in2 = np.random.rand(4, 4)\n",
        "\n",
        "# axis=-1은 마지막 차원으로 stack하는 것\n",
        "values = np.stack([in0, in1, in2], axis = -1)\n",
        "\n",
        "maxPooling_result = np.zeros([values.shape[0]-stride, values.shape[1]-stride, values.shape[2]])\n",
        "\n",
        "for c in range(0, values.shape[2]):\n",
        "  for row in range(0, values.shape[0]-1, stride):\n",
        "      for col in range(0, values.shape[1]-1, stride):\n",
        "        patch = values[row:row+filters, col:col+filters, c]\n",
        "        maxPooling_result[row//stride, col//stride, c] = np.max(patch)\n",
        "print(maxPooling_result)"
      ],
      "execution_count": null,
      "outputs": [
        {
          "output_type": "stream",
          "name": "stdout",
          "text": [
            "[[[0.90974856 0.66121554 0.94817445]\n",
            "  [0.74330376 0.46662227 0.896367  ]\n",
            "  [0.71276065 0.74680429 0.99118723]]\n",
            "\n",
            " [[0.83035163 0.46662227 0.94817445]\n",
            "  [0.74330376 0.46662227 0.896367  ]\n",
            "  [0.71276065 0.74680429 0.50926914]]\n",
            "\n",
            " [[0.80364725 0.95212811 0.65843752]\n",
            "  [0.64312407 0.95212811 0.96598771]\n",
            "  [0.53104576 0.67916281 0.96598771]]]\n"
          ]
        }
      ]
    },
    {
      "cell_type": "markdown",
      "metadata": {
        "id": "uVyznCQ26iP2"
      },
      "source": [
        "# 3차원 맥스 풀링을 프레임워크를 이용"
      ]
    },
    {
      "cell_type": "code",
      "metadata": {
        "colab": {
          "base_uri": "https://localhost:8080/"
        },
        "id": "G4cWQAb06hsG",
        "outputId": "af7f06f0-65d0-45a7-d691-c33edbb0501a"
      },
      "source": [
        "resh_values = values.reshape(1, 4, 4, 3)\n",
        "input = Input(shape=(4, 4, 3))\n",
        "max_0 = MaxPooling2D(pool_size=(2,2), strides=2)(input)\n",
        "model = Model(input, max_0)\n",
        "\n",
        "model.summary()\n",
        "\n",
        "result = model.predict(resh_values)\n",
        "print(result)\n",
        "print(result.shape)"
      ],
      "execution_count": null,
      "outputs": [
        {
          "output_type": "stream",
          "name": "stdout",
          "text": [
            "Model: \"model_9\"\n",
            "_________________________________________________________________\n",
            " Layer (type)                Output Shape              Param #   \n",
            "=================================================================\n",
            " input_11 (InputLayer)       [(None, 4, 4, 3)]         0         \n",
            "                                                                 \n",
            " max_pooling2d_10 (MaxPoolin  (None, 2, 2, 3)          0         \n",
            " g2D)                                                            \n",
            "                                                                 \n",
            "=================================================================\n",
            "Total params: 0\n",
            "Trainable params: 0\n",
            "Non-trainable params: 0\n",
            "_________________________________________________________________\n",
            "[[[[0.90974855 0.66121554 0.9481745 ]\n",
            "   [0.7127606  0.7468043  0.9911872 ]]\n",
            "\n",
            "  [[0.8036472  0.9521281  0.6584375 ]\n",
            "   [0.53104573 0.6791628  0.9659877 ]]]]\n",
            "(1, 2, 2, 3)\n"
          ]
        }
      ]
    },
    {
      "cell_type": "markdown",
      "metadata": {
        "id": "9vJdmKoaFOQF"
      },
      "source": [
        "# 간단한 CNN 만들기"
      ]
    },
    {
      "cell_type": "code",
      "metadata": {
        "colab": {
          "base_uri": "https://localhost:8080/",
          "height": 245
        },
        "id": "LM-YTt7aGse-",
        "outputId": "53a445a0-473a-4766-900d-b02a98738786"
      },
      "source": [
        "from tensorflow.keras.layers import *\n",
        "from tensorflow.keras import Model\n",
        "from tensorflow.keras.datasets import mnist\n",
        "\n",
        "# 데이터 불러오기 & 전처리\n",
        "(train_images, train_labels), (test_images, test_labels) = \\\n",
        "mnist.load_data()\n",
        "train_images = train_images/ 255.\n",
        "test_images = test_images/ 255.\n",
        "\n",
        "# 입력층\n",
        "inputs = Input(shape=(32, 32))\n",
        "res_inputs = Reshape((32, 32, 1))(inputs)\n",
        "\n",
        "# layer 1\n",
        "conv_0 = Conv2D(filters=6, kernel_size=5, strides=1, padding='same', activation='relu')(res_inputs)\n",
        "max_0 = MaxPool2D(pool_size=(2, 2), strides=2, padding='valid')(conv_0)\n",
        "\n",
        "# layer 2\n",
        "conv_1 = Conv2D(16, 5, 1, padding='same', activation='relu')(max_0)\n",
        "max_1 = MaxPool2D(pool_size=(2, 2), strides=2, padding='valid')(conv_1)\n",
        "\n",
        "# layer 3\n",
        "conv_2 = Conv2D(120, 5, 1, padding='same', activation='relu')(max_1)\n",
        "flat = Flatten()(conv_2)\n",
        "\n",
        "# FC layer\n",
        "dense = Dense(filters=84, activation='relu')(flat)\n",
        "outputs = Dense(10, activation='softmax')(dense)\n",
        "\n",
        "# Model\n",
        "model = Model(inputs, outputs)\n",
        "model.summary()"
      ],
      "execution_count": null,
      "outputs": [
        {
          "output_type": "error",
          "ename": "TypeError",
          "evalue": "ignored",
          "traceback": [
            "\u001b[0;31m---------------------------------------------------------------------------\u001b[0m",
            "\u001b[0;31mTypeError\u001b[0m                                 Traceback (most recent call last)",
            "\u001b[0;32m<ipython-input-70-f757b0724974>\u001b[0m in \u001b[0;36m<module>\u001b[0;34m()\u001b[0m\n\u001b[1;32m     15\u001b[0m \u001b[0mconv_2\u001b[0m \u001b[0;34m=\u001b[0m \u001b[0mConv2D\u001b[0m\u001b[0;34m(\u001b[0m\u001b[0;36m120\u001b[0m\u001b[0;34m,\u001b[0m \u001b[0;36m5\u001b[0m\u001b[0;34m,\u001b[0m \u001b[0;36m1\u001b[0m\u001b[0;34m,\u001b[0m \u001b[0mpadding\u001b[0m\u001b[0;34m=\u001b[0m\u001b[0;34m'same'\u001b[0m\u001b[0;34m,\u001b[0m \u001b[0mactivation\u001b[0m\u001b[0;34m=\u001b[0m\u001b[0;34m'relu'\u001b[0m\u001b[0;34m)\u001b[0m\u001b[0;34m(\u001b[0m\u001b[0mmax_1\u001b[0m\u001b[0;34m)\u001b[0m\u001b[0;34m\u001b[0m\u001b[0;34m\u001b[0m\u001b[0m\n\u001b[1;32m     16\u001b[0m \u001b[0mflat\u001b[0m \u001b[0;34m=\u001b[0m \u001b[0mFlatten\u001b[0m\u001b[0;34m(\u001b[0m\u001b[0;34m)\u001b[0m\u001b[0;34m(\u001b[0m\u001b[0mconv_2\u001b[0m\u001b[0;34m)\u001b[0m\u001b[0;34m\u001b[0m\u001b[0;34m\u001b[0m\u001b[0m\n\u001b[0;32m---> 17\u001b[0;31m \u001b[0mdense\u001b[0m \u001b[0;34m=\u001b[0m \u001b[0mDense\u001b[0m\u001b[0;34m(\u001b[0m\u001b[0mfilters\u001b[0m\u001b[0;34m=\u001b[0m\u001b[0;36m84\u001b[0m\u001b[0;34m,\u001b[0m \u001b[0mactivation\u001b[0m\u001b[0;34m=\u001b[0m\u001b[0;34m'relu'\u001b[0m\u001b[0;34m)\u001b[0m\u001b[0;34m(\u001b[0m\u001b[0mflat\u001b[0m\u001b[0;34m)\u001b[0m\u001b[0;34m\u001b[0m\u001b[0;34m\u001b[0m\u001b[0m\n\u001b[0m\u001b[1;32m     18\u001b[0m \u001b[0moutputs\u001b[0m \u001b[0;34m=\u001b[0m \u001b[0mDense\u001b[0m\u001b[0;34m(\u001b[0m\u001b[0;36m10\u001b[0m\u001b[0;34m,\u001b[0m \u001b[0mactivation\u001b[0m\u001b[0;34m=\u001b[0m\u001b[0;34m'softmax'\u001b[0m\u001b[0;34m)\u001b[0m\u001b[0;34m(\u001b[0m\u001b[0mdense\u001b[0m\u001b[0;34m)\u001b[0m\u001b[0;34m\u001b[0m\u001b[0;34m\u001b[0m\u001b[0m\n\u001b[1;32m     19\u001b[0m \u001b[0mmodel\u001b[0m \u001b[0;34m=\u001b[0m \u001b[0mModel\u001b[0m\u001b[0;34m(\u001b[0m\u001b[0minputs\u001b[0m\u001b[0;34m,\u001b[0m \u001b[0moutputs\u001b[0m\u001b[0;34m)\u001b[0m\u001b[0;34m\u001b[0m\u001b[0;34m\u001b[0m\u001b[0m\n",
            "\u001b[0;31mTypeError\u001b[0m: __init__() missing 1 required positional argument: 'units'"
          ]
        }
      ]
    },
    {
      "cell_type": "code",
      "metadata": {
        "id": "lD91riP7InEj"
      },
      "source": [
        ""
      ],
      "execution_count": null,
      "outputs": []
    }
  ]
}