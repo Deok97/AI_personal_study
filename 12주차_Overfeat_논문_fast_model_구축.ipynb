{
  "nbformat": 4,
  "nbformat_minor": 0,
  "metadata": {
    "colab": {
      "name": "12주차 - Overfeat 논문 fast model 구축.ipynb",
      "provenance": [],
      "collapsed_sections": [],
      "authorship_tag": "ABX9TyN+JFY4COvu21xTSo7bXIz5",
      "include_colab_link": true
    },
    "kernelspec": {
      "name": "python3",
      "display_name": "Python 3"
    },
    "language_info": {
      "name": "python"
    }
  },
  "cells": [
    {
      "cell_type": "markdown",
      "metadata": {
        "id": "view-in-github",
        "colab_type": "text"
      },
      "source": [
        "<a href=\"https://colab.research.google.com/github/Deok97/AI_personal_study/blob/main/12%EC%A3%BC%EC%B0%A8_Overfeat_%EB%85%BC%EB%AC%B8_fast_model_%EA%B5%AC%EC%B6%95.ipynb\" target=\"_parent\"><img src=\"https://colab.research.google.com/assets/colab-badge.svg\" alt=\"Open In Colab\"/></a>"
      ]
    },
    {
      "cell_type": "code",
      "metadata": {
        "id": "jDKwkiap90QV"
      },
      "source": [
        "import numpy as np\n",
        "import tensorflow as tf\n",
        "from tensorflow.keras.layers import Input, Conv2D, Dense, MaxPooling2D\n",
        "from tensorflow.keras import Model"
      ],
      "execution_count": 3,
      "outputs": []
    },
    {
      "cell_type": "code",
      "metadata": {
        "colab": {
          "base_uri": "https://localhost:8080/"
        },
        "id": "ZYC4a1Pj-Io-",
        "outputId": "02144d28-d71d-4a78-aafd-7976f3735346"
      },
      "source": [
        "# input layer\n",
        "input_ = Input(shape=(231, 231, 3))\n",
        "\n",
        "# 1st layer\n",
        "conv_0 = Conv2D(filters=96, kernel_size=(11, 11), strides=4)(input_)\n",
        "max_0 = MaxPooling2D(pool_size=2, strides=2)(conv_0)\n",
        "\n",
        "# 2nd layer\n",
        "conv_1 = Conv2D(filters=256, kernel_size = 5, strides=1)(max_0)\n",
        "max_1 = MaxPooling2D(pool_size=2, strides=2)(conv_1)\n",
        "\n",
        "# 3rd layer\n",
        "conv_2 = Conv2D(filters = 512, kernel_size=3, strides = 1, padding='same')(max_1)\n",
        "\n",
        "# 4th layer\n",
        "conv_3 = Conv2D(filters = 1024, kernel_size=3, strides = 1, padding='same')(conv_2)\n",
        "\n",
        "# 5th layer\n",
        "conv_4 = Conv2D(filters=1024, kernel_size = 3, strides=1, padding='same')(conv_3)\n",
        "max_2 = MaxPooling2D(pool_size=2, strides=2)(conv_4)\n",
        "\n",
        "# 6th layer\n",
        "dense_0 = Dense(units=3072)(max_2)\n",
        "\n",
        "# 7th layer\n",
        "dense_1 = Dense(units=4096)(dense_0)\n",
        "\n",
        "# 8th layer - output layer \n",
        "output_ = Dense(units=1000)(dense_1)\n",
        "model = Model(input_, output_)\n",
        "\n",
        "model.summary()"
      ],
      "execution_count": 6,
      "outputs": [
        {
          "output_type": "stream",
          "name": "stdout",
          "text": [
            "Model: \"model\"\n",
            "_________________________________________________________________\n",
            " Layer (type)                Output Shape              Param #   \n",
            "=================================================================\n",
            " input_2 (InputLayer)        [(None, 231, 231, 3)]     0         \n",
            "                                                                 \n",
            " conv2d_5 (Conv2D)           (None, 56, 56, 96)        34944     \n",
            "                                                                 \n",
            " max_pooling2d_3 (MaxPooling  (None, 28, 28, 96)       0         \n",
            " 2D)                                                             \n",
            "                                                                 \n",
            " conv2d_6 (Conv2D)           (None, 24, 24, 256)       614656    \n",
            "                                                                 \n",
            " max_pooling2d_4 (MaxPooling  (None, 12, 12, 256)      0         \n",
            " 2D)                                                             \n",
            "                                                                 \n",
            " conv2d_7 (Conv2D)           (None, 12, 12, 512)       1180160   \n",
            "                                                                 \n",
            " conv2d_8 (Conv2D)           (None, 12, 12, 1024)      4719616   \n",
            "                                                                 \n",
            " conv2d_9 (Conv2D)           (None, 12, 12, 1024)      9438208   \n",
            "                                                                 \n",
            " max_pooling2d_5 (MaxPooling  (None, 6, 6, 1024)       0         \n",
            " 2D)                                                             \n",
            "                                                                 \n",
            " dense_3 (Dense)             (None, 6, 6, 3072)        3148800   \n",
            "                                                                 \n",
            " dense_4 (Dense)             (None, 6, 6, 4096)        12587008  \n",
            "                                                                 \n",
            " dense_5 (Dense)             (None, 6, 6, 1000)        4097000   \n",
            "                                                                 \n",
            "=================================================================\n",
            "Total params: 35,820,392\n",
            "Trainable params: 35,820,392\n",
            "Non-trainable params: 0\n",
            "_________________________________________________________________\n"
          ]
        }
      ]
    }
  ]
}