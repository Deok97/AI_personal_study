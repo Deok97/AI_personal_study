{
  "nbformat": 4,
  "nbformat_minor": 0,
  "metadata": {
    "colab": {
      "name": "Overfeat-Classification.ipynb",
      "provenance": [],
      "collapsed_sections": [],
      "authorship_tag": "ABX9TyMiHYHJWqW1k+Cg4yC2GNp7",
      "include_colab_link": true
    },
    "kernelspec": {
      "name": "python3",
      "display_name": "Python 3"
    },
    "language_info": {
      "name": "python"
    }
  },
  "cells": [
    {
      "cell_type": "markdown",
      "metadata": {
        "id": "view-in-github",
        "colab_type": "text"
      },
      "source": [
        "<a href=\"https://colab.research.google.com/github/Deok97/AI_personal_study/blob/main/Overfeat_Classification.ipynb\" target=\"_parent\"><img src=\"https://colab.research.google.com/assets/colab-badge.svg\" alt=\"Open In Colab\"/></a>"
      ]
    },
    {
      "cell_type": "markdown",
      "source": [
        "### Google Drive와 연결시 사용"
      ],
      "metadata": {
        "id": "NKhytWUZgSsa"
      }
    },
    {
      "cell_type": "code",
      "source": [
        "# drive.mount('/content/gdrive')"
      ],
      "metadata": {
        "colab": {
          "base_uri": "https://localhost:8080/"
        },
        "id": "jhp2k18IfWzm",
        "outputId": "7a1ab64d-4dcc-48a0-e2ad-0974c9708ea0"
      },
      "execution_count": null,
      "outputs": [
        {
          "output_type": "stream",
          "name": "stdout",
          "text": [
            "Mounted at /content/gdrive\n"
          ]
        }
      ]
    },
    {
      "cell_type": "code",
      "source": [
        "# %cd /content/gdrive/MyDrive/Colab\\ Notebooks"
      ],
      "metadata": {
        "colab": {
          "base_uri": "https://localhost:8080/"
        },
        "id": "nniriVLef5HY",
        "outputId": "d4719029-3ce3-4d80-ed17-23777e6edb74"
      },
      "execution_count": null,
      "outputs": [
        {
          "output_type": "stream",
          "name": "stdout",
          "text": [
            "/content/gdrive/MyDrive/Colab Notebooks\n"
          ]
        }
      ]
    },
    {
      "cell_type": "markdown",
      "source": [
        "\n",
        "\n",
        "---\n",
        "\n"
      ],
      "metadata": {
        "id": "zvcGPREnUCsm"
      }
    },
    {
      "cell_type": "code",
      "metadata": {
        "id": "jDKwkiap90QV"
      },
      "source": [
        "import numpy as np\n",
        "import tensorflow as tf\n",
        "from tensorflow.keras.layers import Input, Conv2D, Dense, MaxPooling2D, Flatten\n",
        "from tensorflow.keras import Model\n",
        "from tensorflow.keras.initializers import RandomNormal \n",
        "from tensorflow.keras.regularizers import l2\n",
        "from tensorflow.keras.optimizers import SGD\n",
        "import tensorflow.keras.backend as K\n",
        "from tensorflow.keras.losses import CategoricalCrossentropy\n",
        "from keras.datasets import mnist\n",
        "from mnist_local_generator import mnist_localization_generator\n",
        "from utils import *\n",
        "from google.colab import drive"
      ],
      "execution_count": 1,
      "outputs": []
    },
    {
      "cell_type": "markdown",
      "source": [
        "### mnist_localization_generator 설명"
      ],
      "metadata": {
        "id": "WqUJGC1JUmYI"
      }
    },
    {
      "cell_type": "code",
      "source": [
        "\"\"\"\n",
        "Signature: mnist_localization_generator(train_shape, test_shape, background=True, n_sample=None, image_size_range=None, image_ratio_range=None)\n",
        "\n",
        "Description:\n",
        "mnist 데이터를 온라인으로 다운받고 다운받은 mnist 데이터를 지정된 크기의 이미지 안에 random 으로 붙입니다.\n",
        "그리고 붙여진 위치 정보를 반환합니다.\n",
        "train 이미지와 test 이미지 모두 진행됩니다.\n",
        "\"\"\"\n",
        "\n",
        "mnist_localization_generator?"
      ],
      "metadata": {
        "id": "79LE0bcFhRlF"
      },
      "execution_count": 2,
      "outputs": []
    },
    {
      "cell_type": "code",
      "metadata": {
        "id": "tCTC9Ere7Adw",
        "colab": {
          "base_uri": "https://localhost:8080/"
        },
        "outputId": "3041e2cd-44b1-4a6d-d9a3-f5455b7e4ac9"
      },
      "source": [
        "\"\"\"\n",
        "Description\n",
        "Description:\n",
        "  mnist 데이터를 온라인으로 다운받고 다운받은 mnist 데이터를 지정된 크기의 이미지 안에 random 으로 붙입니다.\n",
        "  그리고 붙여진 위치 정보를 반환합니다.\n",
        "  train 이미지와 test 이미지 모두 진행됩니다.\n",
        "\n",
        ": return\n",
        "  train_images: ndarray, 4d array, shape = (N, H, W, C (단 C=1))\n",
        "  train_cls_true: ndarray, 2d array, shape = (N, 1, 1, 11)\n",
        "  train_reg_true: ndarray, 2d array, shape =(N, 1, 1 , 4), x1, y1, x2, y2  좌표 형태를 가짐\n",
        "  test_images: ndarray, 4d array, shape = (N, H, W, C (단 C=1))\n",
        "  test_cls_true: ndarray, 2d array, shape = (N, 1, 1, 11)\n",
        "  test_reg_true: ndarray, 2d array, shape = (N, 1, 1, 4), x1, y1, x2, y2  좌표 형태를 가짐\n",
        "\n",
        "\"\"\"\n",
        "\n",
        "# 훈련 이미지, 시험 이미지는 (231, 231) size을 갖음\n",
        "# background가 0.1*n_sample 개 만큼 추가된 데이터를 갖음\n",
        "# background 데이터의 클래스 인덱스는 11\n",
        "(train_imgs, train_cls, train_reg), (test_imgs, test_cls, test_reg) = \\\n",
        "mnist_localization_generator(train_shape=(231, 231),\n",
        "                             test_shape=(231, 231),\n",
        "                             background=True,\n",
        "                             n_sample=1000)"
      ],
      "execution_count": 4,
      "outputs": [
        {
          "output_type": "stream",
          "name": "stdout",
          "text": [
            "배경 class가 포함되어 class 는 11로 설정 되어 있습니다.\n"
          ]
        },
        {
          "output_type": "stream",
          "name": "stderr",
          "text": [
            "100%|██████████| 1000/1000 [00:03<00:00, 313.78it/s]\n",
            "100%|██████████| 1000/1000 [00:02<00:00, 345.56it/s]\n"
          ]
        },
        {
          "output_type": "stream",
          "name": "stdout",
          "text": [
            "object 가 없는 background 이미지를 추가합니다.(전체 이미지의 10%)\n",
            "background 의 class 는 11로 설정 되어 있습니다.\n",
            "background 의 regression 는 (0,0,0,0)로 설정 되어 있습니다.\n"
          ]
        },
        {
          "output_type": "stream",
          "name": "stderr",
          "text": [
            "100%|██████████| 100/100 [00:00<00:00, 359.95it/s]\n",
            "100%|██████████| 100/100 [00:00<00:00, 354.04it/s]\n"
          ]
        }
      ]
    },
    {
      "cell_type": "code",
      "source": [
        "train_imgs.shape, train_cls.shape, train_reg.shape"
      ],
      "metadata": {
        "colab": {
          "base_uri": "https://localhost:8080/"
        },
        "id": "0-7DMroxiW0w",
        "outputId": "f7015178-80ca-4815-93a7-ca884f4e2d26"
      },
      "execution_count": 5,
      "outputs": [
        {
          "output_type": "execute_result",
          "data": {
            "text/plain": [
              "((1100, 231, 231, 1), (1100, 1, 1, 11), (1100, 1, 1, 4))"
            ]
          },
          "metadata": {},
          "execution_count": 5
        }
      ]
    },
    {
      "cell_type": "code",
      "metadata": {
        "colab": {
          "base_uri": "https://localhost:8080/"
        },
        "id": "ZYC4a1Pj-Io-",
        "outputId": "c8243c63-bcb1-40ac-9044-e10cbfc841c1"
      },
      "source": [
        "K.clear_session()\n",
        "\n",
        "# Overfeat 논문에서는 FC Layer을 Convolutional Layer로 변환\n",
        "# Fully Convolutional Network을 구축\n",
        "# input layer\n",
        "input_ = Input(shape=(231, 231, 1))\n",
        "\n",
        "# Backbone - 1st layer\n",
        "conv_0 = Conv2D(filters=96, kernel_size=(11, 11), strides=4, activation='relu',\n",
        "                kernel_initializer=RandomNormal(0, 0.01), kernel_regularizer=l2(0.00001))(input_)\n",
        "max_0 = MaxPooling2D(pool_size=2, strides=2)(conv_0)\n",
        "\n",
        "# Backbone - 2nd layer\n",
        "conv_1 = Conv2D(filters=256, kernel_size = 5, strides=1, padding='valid', activation='relu',\n",
        "                kernel_initializer=RandomNormal(0, 0.01), kernel_regularizer=l2(0.00001))(max_0)\n",
        "max_1 = MaxPooling2D(pool_size=2, strides=2)(conv_1)\n",
        "\n",
        "# Backbone - 3rd layer\n",
        "conv_2 = Conv2D(filters = 512, kernel_size=3, strides = 1, padding='same', activation='relu',\n",
        "                kernel_initializer=RandomNormal(0, 0.01), kernel_regularizer=l2(0.00001))(max_1)\n",
        "\n",
        "# Backbone - 4th layer\n",
        "conv_3 = Conv2D(filters = 1024, kernel_size=3, strides = 1, padding='same', activation='relu',\n",
        "                kernel_initializer=RandomNormal(0, 0.01), kernel_regularizer=l2(0.00001))(conv_2)\n",
        "\n",
        "# Backbone - 5th layer\n",
        "conv_4 = Conv2D(filters=1024, kernel_size = 3, strides=1, padding='same', activation='relu',\n",
        "                kernel_initializer=RandomNormal(0, 0.01), kernel_regularizer=l2(0.00001))(conv_3)\n",
        "max_2 = MaxPooling2D(pool_size=2, strides=2)(conv_4)\n",
        "\n",
        "# Clasisfication - 6th layer\n",
        "conv_5 = Conv2D(filters=3072, kernel_size = 6, strides=1, padding='valid', activation='relu',\n",
        "                kernel_initializer=RandomNormal(0, 0.01), kernel_regularizer=l2(0.00001))(max_2)\n",
        "\n",
        "# Clasisfication - 7th layer\n",
        "conv_6 = Conv2D(filters=4096, kernel_size = 1, strides=1, padding='same', activation='relu',\n",
        "                kernel_initializer=RandomNormal(0, 0.01), kernel_regularizer=l2(0.00001))(conv_5)\n",
        "\n",
        "# Clasisfication - 8th layer; output layer\n",
        "output_ = Conv2D(filters=1000, kernel_size = 1, strides=1, padding='same', activation='softmax')(conv_6)\n",
        "\n",
        "model = Model(input_, output_)\n",
        "sgd = SGD(0.05, momentum=0.6)\n",
        "model.compile(optimizer=sgd, loss=CategoricalCrossentropy, metrics=['cee'])\n",
        "\n",
        "model.summary()\n",
        "\n",
        "print(output_)"
      ],
      "execution_count": null,
      "outputs": [
        {
          "output_type": "stream",
          "name": "stdout",
          "text": [
            "Model: \"model\"\n",
            "_________________________________________________________________\n",
            " Layer (type)                Output Shape              Param #   \n",
            "=================================================================\n",
            " input_1 (InputLayer)        [(None, 231, 231, 1)]     0         \n",
            "                                                                 \n",
            " conv2d (Conv2D)             (None, 56, 56, 96)        11712     \n",
            "                                                                 \n",
            " max_pooling2d (MaxPooling2D  (None, 28, 28, 96)       0         \n",
            " )                                                               \n",
            "                                                                 \n",
            " conv2d_1 (Conv2D)           (None, 24, 24, 256)       614656    \n",
            "                                                                 \n",
            " max_pooling2d_1 (MaxPooling  (None, 12, 12, 256)      0         \n",
            " 2D)                                                             \n",
            "                                                                 \n",
            " conv2d_2 (Conv2D)           (None, 12, 12, 512)       1180160   \n",
            "                                                                 \n",
            " conv2d_3 (Conv2D)           (None, 12, 12, 1024)      4719616   \n",
            "                                                                 \n",
            " conv2d_4 (Conv2D)           (None, 12, 12, 1024)      9438208   \n",
            "                                                                 \n",
            " max_pooling2d_2 (MaxPooling  (None, 6, 6, 1024)       0         \n",
            " 2D)                                                             \n",
            "                                                                 \n",
            " conv2d_5 (Conv2D)           (None, 1, 1, 3072)        113249280 \n",
            "                                                                 \n",
            " conv2d_6 (Conv2D)           (None, 1, 1, 4096)        12587008  \n",
            "                                                                 \n",
            " conv2d_7 (Conv2D)           (None, 1, 1, 1000)        4097000   \n",
            "                                                                 \n",
            "=================================================================\n",
            "Total params: 145,897,640\n",
            "Trainable params: 145,897,640\n",
            "Non-trainable params: 0\n",
            "_________________________________________________________________\n"
          ]
        }
      ]
    },
    {
      "cell_type": "code",
      "source": [
        "model.fit(train_imgs, train_cls)\n"
      ],
      "metadata": {
        "colab": {
          "base_uri": "https://localhost:8080/",
          "height": 651
        },
        "id": "s5Xy6WYNk5r7",
        "outputId": "2e4ec71b-7396-42d2-be5d-332a8c4b9352"
      },
      "execution_count": null,
      "outputs": [
        {
          "output_type": "error",
          "ename": "TypeError",
          "evalue": "ignored",
          "traceback": [
            "\u001b[0;31m---------------------------------------------------------------------------\u001b[0m",
            "\u001b[0;31mTypeError\u001b[0m                                 Traceback (most recent call last)",
            "\u001b[0;32m<ipython-input-41-895954e449f0>\u001b[0m in \u001b[0;36m<module>\u001b[0;34m()\u001b[0m\n\u001b[0;32m----> 1\u001b[0;31m \u001b[0mmodel\u001b[0m\u001b[0;34m.\u001b[0m\u001b[0mfit\u001b[0m\u001b[0;34m(\u001b[0m\u001b[0mtrain_imgs\u001b[0m\u001b[0;34m,\u001b[0m \u001b[0mtrain_cls\u001b[0m\u001b[0;34m)\u001b[0m\u001b[0;34m\u001b[0m\u001b[0;34m\u001b[0m\u001b[0m\n\u001b[0m",
            "\u001b[0;32m/usr/local/lib/python3.7/dist-packages/keras/utils/traceback_utils.py\u001b[0m in \u001b[0;36merror_handler\u001b[0;34m(*args, **kwargs)\u001b[0m\n\u001b[1;32m     65\u001b[0m     \u001b[0;32mexcept\u001b[0m \u001b[0mException\u001b[0m \u001b[0;32mas\u001b[0m \u001b[0me\u001b[0m\u001b[0;34m:\u001b[0m  \u001b[0;31m# pylint: disable=broad-except\u001b[0m\u001b[0;34m\u001b[0m\u001b[0;34m\u001b[0m\u001b[0m\n\u001b[1;32m     66\u001b[0m       \u001b[0mfiltered_tb\u001b[0m \u001b[0;34m=\u001b[0m \u001b[0m_process_traceback_frames\u001b[0m\u001b[0;34m(\u001b[0m\u001b[0me\u001b[0m\u001b[0;34m.\u001b[0m\u001b[0m__traceback__\u001b[0m\u001b[0;34m)\u001b[0m\u001b[0;34m\u001b[0m\u001b[0;34m\u001b[0m\u001b[0m\n\u001b[0;32m---> 67\u001b[0;31m       \u001b[0;32mraise\u001b[0m \u001b[0me\u001b[0m\u001b[0;34m.\u001b[0m\u001b[0mwith_traceback\u001b[0m\u001b[0;34m(\u001b[0m\u001b[0mfiltered_tb\u001b[0m\u001b[0;34m)\u001b[0m \u001b[0;32mfrom\u001b[0m \u001b[0;32mNone\u001b[0m\u001b[0;34m\u001b[0m\u001b[0;34m\u001b[0m\u001b[0m\n\u001b[0m\u001b[1;32m     68\u001b[0m     \u001b[0;32mfinally\u001b[0m\u001b[0;34m:\u001b[0m\u001b[0;34m\u001b[0m\u001b[0;34m\u001b[0m\u001b[0m\n\u001b[1;32m     69\u001b[0m       \u001b[0;32mdel\u001b[0m \u001b[0mfiltered_tb\u001b[0m\u001b[0;34m\u001b[0m\u001b[0;34m\u001b[0m\u001b[0m\n",
            "\u001b[0;32m/usr/local/lib/python3.7/dist-packages/tensorflow/python/framework/func_graph.py\u001b[0m in \u001b[0;36mautograph_handler\u001b[0;34m(*args, **kwargs)\u001b[0m\n\u001b[1;32m   1127\u001b[0m           \u001b[0;32mexcept\u001b[0m \u001b[0mException\u001b[0m \u001b[0;32mas\u001b[0m \u001b[0me\u001b[0m\u001b[0;34m:\u001b[0m  \u001b[0;31m# pylint:disable=broad-except\u001b[0m\u001b[0;34m\u001b[0m\u001b[0;34m\u001b[0m\u001b[0m\n\u001b[1;32m   1128\u001b[0m             \u001b[0;32mif\u001b[0m \u001b[0mhasattr\u001b[0m\u001b[0;34m(\u001b[0m\u001b[0me\u001b[0m\u001b[0;34m,\u001b[0m \u001b[0;34m\"ag_error_metadata\"\u001b[0m\u001b[0;34m)\u001b[0m\u001b[0;34m:\u001b[0m\u001b[0;34m\u001b[0m\u001b[0;34m\u001b[0m\u001b[0m\n\u001b[0;32m-> 1129\u001b[0;31m               \u001b[0;32mraise\u001b[0m \u001b[0me\u001b[0m\u001b[0;34m.\u001b[0m\u001b[0mag_error_metadata\u001b[0m\u001b[0;34m.\u001b[0m\u001b[0mto_exception\u001b[0m\u001b[0;34m(\u001b[0m\u001b[0me\u001b[0m\u001b[0;34m)\u001b[0m\u001b[0;34m\u001b[0m\u001b[0;34m\u001b[0m\u001b[0m\n\u001b[0m\u001b[1;32m   1130\u001b[0m             \u001b[0;32melse\u001b[0m\u001b[0;34m:\u001b[0m\u001b[0;34m\u001b[0m\u001b[0;34m\u001b[0m\u001b[0m\n\u001b[1;32m   1131\u001b[0m               \u001b[0;32mraise\u001b[0m\u001b[0;34m\u001b[0m\u001b[0;34m\u001b[0m\u001b[0m\n",
            "\u001b[0;31mTypeError\u001b[0m: in user code:\n\n    File \"/usr/local/lib/python3.7/dist-packages/keras/engine/training.py\", line 878, in train_function  *\n        return step_function(self, iterator)\n    File \"/usr/local/lib/python3.7/dist-packages/keras/engine/training.py\", line 867, in step_function  **\n        outputs = model.distribute_strategy.run(run_step, args=(data,))\n    File \"/usr/local/lib/python3.7/dist-packages/keras/engine/training.py\", line 860, in run_step  **\n        outputs = model.train_step(data)\n    File \"/usr/local/lib/python3.7/dist-packages/keras/engine/training.py\", line 810, in train_step\n        y, y_pred, sample_weight, regularization_losses=self.losses)\n    File \"/usr/local/lib/python3.7/dist-packages/keras/engine/compile_utils.py\", line 201, in __call__\n        loss_value = loss_obj(y_t, y_p, sample_weight=sw)\n    File \"/usr/local/lib/python3.7/dist-packages/keras/losses.py\", line 143, in __call__\n        losses, sample_weight, reduction=self._get_reduction())\n    File \"/usr/local/lib/python3.7/dist-packages/keras/utils/losses_utils.py\", line 309, in compute_weighted_loss\n        losses = tf.convert_to_tensor(losses)\n\n    TypeError: Failed to convert elements of <keras.losses.CategoricalCrossentropy object at 0x7f9a91ec8550> to Tensor. Consider casting elements to a supported type. See https://www.tensorflow.org/api_docs/python/tf/dtypes for supported TF dtypes.\n"
          ]
        }
      ]
    },
    {
      "cell_type": "code",
      "source": [
        "model.predict()"
      ],
      "metadata": {
        "id": "KnylLNNwlAof"
      },
      "execution_count": null,
      "outputs": []
    }
  ]
}