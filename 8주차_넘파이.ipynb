{
  "nbformat": 4,
  "nbformat_minor": 0,
  "metadata": {
    "colab": {
      "name": "8주차 - 넘파이.ipynb",
      "provenance": [],
      "collapsed_sections": [],
      "authorship_tag": "ABX9TyMBdVEaYzDTNfWFicgo3SEx",
      "include_colab_link": true
    },
    "kernelspec": {
      "name": "python3",
      "display_name": "Python 3"
    },
    "language_info": {
      "name": "python"
    }
  },
  "cells": [
    {
      "cell_type": "markdown",
      "metadata": {
        "id": "view-in-github",
        "colab_type": "text"
      },
      "source": [
        "<a href=\"https://colab.research.google.com/github/Deok97/AI_personal_study/blob/main/8%EC%A3%BC%EC%B0%A8_%EB%84%98%ED%8C%8C%EC%9D%B4.ipynb\" target=\"_parent\"><img src=\"https://colab.research.google.com/assets/colab-badge.svg\" alt=\"Open In Colab\"/></a>"
      ]
    },
    {
      "cell_type": "markdown",
      "metadata": {
        "id": "XiVBsl5_KgT2"
      },
      "source": [
        "# 파이썬의 넘파이 패키지"
      ]
    },
    {
      "cell_type": "code",
      "metadata": {
        "id": "-j85RGvnKV-H"
      },
      "source": [
        "'''\n",
        "  파이썬의 넘파이는\n",
        "  1. 배열을 쉽게 처리할 수 있도록 지원하는 파이썬 패키지\n",
        "  2. '수치 계산'을 위해 효율적으로 구현된 기능을 제공\n",
        "  3. 대규모 다차원 배열 데이터를 빠르고 효율적으로 처리\n",
        "'''"
      ],
      "execution_count": null,
      "outputs": []
    }
  ]
}
